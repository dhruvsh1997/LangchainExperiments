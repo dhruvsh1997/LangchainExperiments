{
  "nbformat": 4,
  "nbformat_minor": 0,
  "metadata": {
    "colab": {
      "provenance": []
    },
    "kernelspec": {
      "name": "python3",
      "display_name": "Python 3"
    },
    "language_info": {
      "name": "python"
    }
  },
  "cells": [
    {
      "cell_type": "code",
      "source": [
        "# ===================== INSTALL DEPENDENCIES =====================\n",
        "!pip install -q langchain sentence-transformers faiss-cpu pypdf langchain-community langchain-groq"
      ],
      "metadata": {
        "colab": {
          "base_uri": "https://localhost:8080/"
        },
        "id": "rgg2qqcyEj3k",
        "outputId": "ee8533d7-92fb-475b-b0c2-c91f5c4d9069"
      },
      "execution_count": null,
      "outputs": [
        {
          "output_type": "stream",
          "name": "stdout",
          "text": [
            "\u001b[2K   \u001b[90m━━━━━━━━━━━━━━━━━━━━━━━━━━━━━━━━━━━━━━━━\u001b[0m \u001b[32m31.3/31.3 MB\u001b[0m \u001b[31m43.8 MB/s\u001b[0m eta \u001b[36m0:00:00\u001b[0m\n",
            "\u001b[2K   \u001b[90m━━━━━━━━━━━━━━━━━━━━━━━━━━━━━━━━━━━━━━━━\u001b[0m \u001b[32m304.6/304.6 kB\u001b[0m \u001b[31m20.6 MB/s\u001b[0m eta \u001b[36m0:00:00\u001b[0m\n",
            "\u001b[2K   \u001b[90m━━━━━━━━━━━━━━━━━━━━━━━━━━━━━━━━━━━━━━━━\u001b[0m \u001b[32m2.5/2.5 MB\u001b[0m \u001b[31m52.6 MB/s\u001b[0m eta \u001b[36m0:00:00\u001b[0m\n",
            "\u001b[2K   \u001b[90m━━━━━━━━━━━━━━━━━━━━━━━━━━━━━━━━━━━━━━━━\u001b[0m \u001b[32m1.0/1.0 MB\u001b[0m \u001b[31m41.9 MB/s\u001b[0m eta \u001b[36m0:00:00\u001b[0m\n",
            "\u001b[2K   \u001b[90m━━━━━━━━━━━━━━━━━━━━━━━━━━━━━━━━━━━━━━━━\u001b[0m \u001b[32m130.2/130.2 kB\u001b[0m \u001b[31m9.6 MB/s\u001b[0m eta \u001b[36m0:00:00\u001b[0m\n",
            "\u001b[2K   \u001b[90m━━━━━━━━━━━━━━━━━━━━━━━━━━━━━━━━━━━━━━━━\u001b[0m \u001b[32m438.9/438.9 kB\u001b[0m \u001b[31m26.5 MB/s\u001b[0m eta \u001b[36m0:00:00\u001b[0m\n",
            "\u001b[2K   \u001b[90m━━━━━━━━━━━━━━━━━━━━━━━━━━━━━━━━━━━━━━━━\u001b[0m \u001b[32m45.2/45.2 kB\u001b[0m \u001b[31m3.1 MB/s\u001b[0m eta \u001b[36m0:00:00\u001b[0m\n",
            "\u001b[2K   \u001b[90m━━━━━━━━━━━━━━━━━━━━━━━━━━━━━━━━━━━━━━━━\u001b[0m \u001b[32m363.4/363.4 MB\u001b[0m \u001b[31m4.6 MB/s\u001b[0m eta \u001b[36m0:00:00\u001b[0m\n",
            "\u001b[2K   \u001b[90m━━━━━━━━━━━━━━━━━━━━━━━━━━━━━━━━━━━━━━━━\u001b[0m \u001b[32m13.8/13.8 MB\u001b[0m \u001b[31m99.4 MB/s\u001b[0m eta \u001b[36m0:00:00\u001b[0m\n",
            "\u001b[2K   \u001b[90m━━━━━━━━━━━━━━━━━━━━━━━━━━━━━━━━━━━━━━━━\u001b[0m \u001b[32m24.6/24.6 MB\u001b[0m \u001b[31m80.6 MB/s\u001b[0m eta \u001b[36m0:00:00\u001b[0m\n",
            "\u001b[2K   \u001b[90m━━━━━━━━━━━━━━━━━━━━━━━━━━━━━━━━━━━━━━━━\u001b[0m \u001b[32m883.7/883.7 kB\u001b[0m \u001b[31m44.5 MB/s\u001b[0m eta \u001b[36m0:00:00\u001b[0m\n",
            "\u001b[2K   \u001b[90m━━━━━━━━━━━━━━━━━━━━━━━━━━━━━━━━━━━━━━━━\u001b[0m \u001b[32m664.8/664.8 MB\u001b[0m \u001b[31m1.1 MB/s\u001b[0m eta \u001b[36m0:00:00\u001b[0m\n",
            "\u001b[2K   \u001b[90m━━━━━━━━━━━━━━━━━━━━━━━━━━━━━━━━━━━━━━━━\u001b[0m \u001b[32m211.5/211.5 MB\u001b[0m \u001b[31m5.0 MB/s\u001b[0m eta \u001b[36m0:00:00\u001b[0m\n",
            "\u001b[2K   \u001b[90m━━━━━━━━━━━━━━━━━━━━━━━━━━━━━━━━━━━━━━━━\u001b[0m \u001b[32m56.3/56.3 MB\u001b[0m \u001b[31m9.6 MB/s\u001b[0m eta \u001b[36m0:00:00\u001b[0m\n",
            "\u001b[2K   \u001b[90m━━━━━━━━━━━━━━━━━━━━━━━━━━━━━━━━━━━━━━━━\u001b[0m \u001b[32m127.9/127.9 MB\u001b[0m \u001b[31m7.5 MB/s\u001b[0m eta \u001b[36m0:00:00\u001b[0m\n",
            "\u001b[2K   \u001b[90m━━━━━━━━━━━━━━━━━━━━━━━━━━━━━━━━━━━━━━━━\u001b[0m \u001b[32m207.5/207.5 MB\u001b[0m \u001b[31m4.6 MB/s\u001b[0m eta \u001b[36m0:00:00\u001b[0m\n",
            "\u001b[2K   \u001b[90m━━━━━━━━━━━━━━━━━━━━━━━━━━━━━━━━━━━━━━━━\u001b[0m \u001b[32m21.1/21.1 MB\u001b[0m \u001b[31m84.6 MB/s\u001b[0m eta \u001b[36m0:00:00\u001b[0m\n",
            "\u001b[2K   \u001b[90m━━━━━━━━━━━━━━━━━━━━━━━━━━━━━━━━━━━━━━━━\u001b[0m \u001b[32m50.9/50.9 kB\u001b[0m \u001b[31m3.2 MB/s\u001b[0m eta \u001b[36m0:00:00\u001b[0m\n",
            "\u001b[?25h"
          ]
        }
      ]
    },
    {
      "cell_type": "code",
      "source": [
        "# ===================== IMPORTS =====================\n",
        "import os\n",
        "import uuid\n",
        "from langchain.schema import Document\n",
        "from langchain.embeddings import HuggingFaceEmbeddings\n",
        "from langchain.vectorstores import FAISS\n",
        "from langchain.retrievers.multi_vector import MultiVectorRetriever\n",
        "from langchain.storage import InMemoryStore\n",
        "from langchain_groq import ChatGroq\n",
        "from langchain.chains import RetrievalQA\n",
        "from langchain.prompts import PromptTemplate\n",
        "from langchain_community.document_loaders import PyPDFLoader\n",
        "from google.colab import userdata"
      ],
      "metadata": {
        "id": "4bsDZmnLEj1H"
      },
      "execution_count": null,
      "outputs": []
    },
    {
      "cell_type": "code",
      "source": [
        "# ===================== STEP 1: LOAD TWO PDFs =====================\n",
        "pdf_paths = [\n",
        "    \"/content/solid-python.pdf\",\n",
        "    \"/content/LLD_Best_Practices_Python.pdf\"\n",
        "]\n",
        "\n",
        "all_embedding_docs = []\n",
        "docstore = InMemoryStore()\n",
        "\n",
        "for path in pdf_paths:\n",
        "    loader = PyPDFLoader(path)\n",
        "    pages = loader.load()\n",
        "\n",
        "    parent_id = str(uuid.uuid4())\n",
        "    filename = os.path.basename(path).replace(\".pdf\", \"\")\n",
        "\n",
        "    # Extract summary = first page or first paragraph\n",
        "    summary_text = pages[0].page_content[:700]\n",
        "\n",
        "    # Extract body = full document content\n",
        "    full_body = \"\\n\\n\".join([p.page_content for p in pages])\n",
        "\n",
        "    # ---- Create Embedding Fields ----\n",
        "    title_doc = Document(\n",
        "        page_content=filename,\n",
        "        metadata={\"field\": \"title\", \"doc_title\": filename, \"parent_id\": parent_id}\n",
        "    )\n",
        "\n",
        "    summary_doc = Document(\n",
        "        page_content=summary_text,\n",
        "        metadata={\"field\": \"summary\", \"doc_title\": filename, \"parent_id\": parent_id}\n",
        "    )\n",
        "\n",
        "    body_doc = Document(\n",
        "        page_content=full_body,\n",
        "        metadata={\"field\": \"body\", \"doc_title\": filename, \"parent_id\": parent_id}\n",
        "    )\n",
        "\n",
        "    all_embedding_docs.extend([title_doc, summary_doc, body_doc])\n",
        "\n",
        "    # ---- Store Parent Doc (for generation) ----\n",
        "    parent_combined = f\"Title: {filename}\\n\\nSummary:\\n{summary_text}\\n\\nBody:\\n{full_body}\"\n",
        "    parent_doc = Document(page_content=parent_combined)\n",
        "    docstore.mset([(parent_id, parent_doc)])"
      ],
      "metadata": {
        "id": "wlMlWoJUEjyv"
      },
      "execution_count": null,
      "outputs": []
    },
    {
      "cell_type": "code",
      "source": [
        "# ===================== EMBEDDING & VECTOR STORE =====================\n",
        "embedding_model = HuggingFaceEmbeddings(model_name=\"sentence-transformers/all-MiniLM-L6-v2\")\n",
        "vectorstore = FAISS.from_documents(all_embedding_docs, embedding_model)"
      ],
      "metadata": {
        "id": "rVJusEDKEjvr"
      },
      "execution_count": null,
      "outputs": []
    },
    {
      "cell_type": "markdown",
      "source": [
        "MultiVectorRetriever\tStores multiple vectors per document (e.g. for sections, titles, etc.), preffered when\tStructured data like manuals or FAQs, generally Needs extra embeddings per doc"
      ],
      "metadata": {
        "id": "K4Mp0VqvCsiu"
      }
    },
    {
      "cell_type": "code",
      "source": [
        "# ===================== MULTIVECTOR RETRIEVER =====================\n",
        "retriever = MultiVectorRetriever(\n",
        "    vectorstore=vectorstore,\n",
        "    docstore=docstore,\n",
        "    id_key=\"parent_id\"\n",
        ")"
      ],
      "metadata": {
        "id": "aAV0bgh9Ejsx"
      },
      "execution_count": null,
      "outputs": []
    },
    {
      "cell_type": "code",
      "source": [
        "# ===================== LLM SETUP =====================\n",
        "llm = ChatGroq(\n",
        "    model_name=\"llama-3.3-70b-versatile\",\n",
        "    api_key=userdata.get(\"GROQ_API_KEY\")\n",
        ")"
      ],
      "metadata": {
        "id": "UneuPQKYEjoU"
      },
      "execution_count": null,
      "outputs": []
    },
    {
      "cell_type": "code",
      "source": [
        "# ===================== PROMPT =====================\n",
        "prompt_template = PromptTemplate.from_template(\n",
        "    \"Use the following context to answer the question:\\n\\n{context}\\n\\nQuestion: {question}\"\n",
        ")"
      ],
      "metadata": {
        "id": "Ravlmn3cEjkh"
      },
      "execution_count": null,
      "outputs": []
    },
    {
      "cell_type": "code",
      "execution_count": null,
      "metadata": {
        "id": "FXRfVaKFCrSB"
      },
      "outputs": [],
      "source": [
        "# ===================== BUILD RAG CHAIN =====================\n",
        "qa_chain = RetrievalQA.from_chain_type(\n",
        "    llm=llm,\n",
        "    retriever=retriever,\n",
        "    chain_type=\"stuff\",\n",
        "    chain_type_kwargs={\"prompt\": prompt_template}\n",
        ")"
      ]
    },
    {
      "cell_type": "code",
      "source": [
        "# ===================== RUN A TEST QUESTION =====================\n",
        "question = \"Explain Open/Closed Principle in software design?\"\n",
        "result = qa_chain.invoke({\"query\": question})\n",
        "print(\"Answer:\", result[\"result\"])"
      ],
      "metadata": {
        "colab": {
          "base_uri": "https://localhost:8080/"
        },
        "id": "dccy-WrxthTG",
        "outputId": "3b271433-faad-4ec0-bfa9-a8a40c6d98e9"
      },
      "execution_count": null,
      "outputs": [
        {
          "output_type": "stream",
          "name": "stdout",
          "text": [
            "Answer: **Open/Closed Principle (OCP) in Software Design**\n",
            "\n",
            "The Open/Closed Principle (OCP) is a fundamental concept in software design that states:\n",
            "\n",
            "**\"Software entities (classes, modules, functions, etc.) should be open for extension but closed for modification.\"**\n",
            "\n",
            "In other words, the OCP principle suggests that a software component should be designed in such a way that it can be extended or modified without altering its underlying structure or code.\n",
            "\n",
            "**Key Aspects of OCP:**\n",
            "\n",
            "1. **Open for extension**: The component should be able to accommodate new functionality or features without requiring significant changes to its existing code.\n",
            "2. **Closed for modification**: The component's existing code should not be modified or altered in any way, ensuring that its behavior and functionality remain consistent.\n",
            "\n",
            "**Benefits of OCP:**\n",
            "\n",
            "1. **Reduced maintenance costs**: By avoiding modifications to existing code, the risk of introducing bugs or breaking existing functionality is minimized.\n",
            "2. **Improved flexibility**: OCP enables software components to be extended or modified without compromising their stability or performance.\n",
            "3. **Easier testing**: With OCP, testing becomes more focused on the new functionality or features, rather than the entire component.\n",
            "\n",
            "**Example (from the provided context):**\n",
            "\n",
            "Before ( violating OCP):\n",
            "```python\n",
            "def total_area(shapes):\n",
            "    result = 0\n",
            "    for shape in shapes:\n",
            "        match type(shape):\n",
            "            case Rectangle:\n",
            "                result += shape.width * shape.height\n",
            "            case Sphere:\n",
            "                result += math.pi * shape.radius ** 2\n",
            "            case _:\n",
            "                raise f\"Unsupported shape {shape}\"\n",
            "    return result\n",
            "```\n",
            "After ( applying OCP):\n",
            "```python\n",
            "class Rectangle:\n",
            "    def area(self):\n",
            "        return self.width * self.height\n",
            "\n",
            "class Circle:\n",
            "    def area(self):\n",
            "        return math.pi * self.radius ** 2\n",
            "\n",
            "def total_area(shapes):\n",
            "    result = 0\n",
            "    for shape in shapes:\n",
            "        result += shape.area()\n",
            "    return result\n",
            "```\n",
            "In the \"after\" example, the `total_area` function is open for extension (new shapes can be added without modifying the function) and closed for modification (the existing code remains unchanged).\n",
            "\n",
            "By following the Open/Closed Principle, software designers can create more maintainable, flexible, and scalable systems that are better equipped to adapt to changing requirements and evolving needs.\n"
          ]
        }
      ]
    },
    {
      "cell_type": "code",
      "source": [
        "# ===================== METRIC EVALUATION HELPERS =====================\n",
        "def precision_recall_f1(retrieved_ids, relevant_ids):\n",
        "    intersection = set(retrieved_ids).intersection(set(relevant_ids))\n",
        "    precision = len(intersection) / len(retrieved_ids) if retrieved_ids else 0\n",
        "    recall = len(intersection) / len(relevant_ids) if relevant_ids else 0\n",
        "    f1 = 2 * precision * recall / (precision + recall + 1e-8) if (precision + recall) > 0 else 0\n",
        "    return precision, recall, f1\n",
        "\n",
        "def mean_reciprocal_rank(retrieved_ids, relevant_ids):\n",
        "    for i, doc_id in enumerate(retrieved_ids):\n",
        "        if doc_id in relevant_ids:\n",
        "            return 1 / (i + 1)\n",
        "    return 0.0\n",
        "\n",
        "def hit_at_k(retrieved_ids, relevant_ids, k):\n",
        "    return int(any(doc_id in retrieved_ids[:k] for doc_id in relevant_ids))\n",
        "\n",
        "def faithfulness_check(llm, answer, context_docs):\n",
        "    context = \"\\n\\n\".join([doc.page_content for doc in context_docs[:5]])\n",
        "    prompt = f\"Context:\\n{context}\\n\\nAnswer:\\n{answer}\\n\\nIs the answer supported by the context? Answer 'yes' or 'no'.\"\n",
        "    verdict = llm.invoke(prompt)\n",
        "    return 1 if \"yes\" in verdict.content.lower() else 0"
      ],
      "metadata": {
        "id": "SH7MrHtSthNv"
      },
      "execution_count": null,
      "outputs": []
    },
    {
      "cell_type": "code",
      "source": [
        "# ===================== QUERY SETUP =====================\n",
        "queries = [\n",
        "    \"What are the five solid principles?\",\n",
        "    \"What is most used practice in python?\",\n",
        "    \"What is the difference between interface segregation and Liskov substitution?\",\n",
        "]\n",
        "\n",
        "ground_truths = [\n",
        "    [\"doc_3\", \"doc_7\"],     # Expected relevant docs for query 1\n",
        "    [\"doc_5\"],              # Expected relevant docs for query 2\n",
        "    [\"doc_6\", \"doc_8\"],     # Expected relevant docs for query 3\n",
        "]"
      ],
      "metadata": {
        "id": "xY5q4KAfthKt"
      },
      "execution_count": null,
      "outputs": []
    },
    {
      "cell_type": "code",
      "source": [
        "# ===================== RUN EVALUATION =====================\n",
        "all_precisions, all_recalls, all_f1s, all_mrrs, all_hits, all_faith = [], [], [], [], [], []\n",
        "\n",
        "for i, question in enumerate(queries):\n",
        "    print(f\"\\n Query: {question}\")\n",
        "\n",
        "    retrieved_docs = retriever.get_relevant_documents(question)\n",
        "    retrieved_ids = [doc.metadata.get(\"doc_id\") for doc in retrieved_docs]\n",
        "\n",
        "    precision, recall, f1 = precision_recall_f1(retrieved_ids, ground_truths[i])\n",
        "    mrr = mean_reciprocal_rank(retrieved_ids, ground_truths[i])\n",
        "    hit = hit_at_k(retrieved_ids, ground_truths[i], k=5)\n",
        "\n",
        "    answer = qa_chain.invoke({\"query\": question})\n",
        "    is_faithful = faithfulness_check(llm, answer[\"result\"], retrieved_docs)\n",
        "\n",
        "    all_precisions.append(precision)\n",
        "    all_recalls.append(recall)\n",
        "    all_f1s.append(f1)\n",
        "    all_mrrs.append(mrr)\n",
        "    all_hits.append(hit)\n",
        "    all_faith.append(is_faithful)\n",
        "\n",
        "    print(f\"Answer: {answer['result']}\")\n",
        "    print(f\"Precision: {precision:.2f} | Recall: {recall:.2f} | F1: {f1:.2f} | MRR: {mrr:.2f} | Hit@5: {hit} | Faithful: {is_faithful}\")"
      ],
      "metadata": {
        "colab": {
          "base_uri": "https://localhost:8080/"
        },
        "id": "QUV-qAzCthH8",
        "outputId": "bdb7cffb-a37a-4ef2-d3c1-6b06e3e2e5ab"
      },
      "execution_count": null,
      "outputs": [
        {
          "output_type": "stream",
          "name": "stdout",
          "text": [
            "\n",
            " Query: What are the five solid principles?\n"
          ]
        },
        {
          "output_type": "stream",
          "name": "stderr",
          "text": [
            "/tmp/ipython-input-22-2101565423.py:7: LangChainDeprecationWarning: The method `BaseRetriever.get_relevant_documents` was deprecated in langchain-core 0.1.46 and will be removed in 1.0. Use :meth:`~invoke` instead.\n",
            "  retrieved_docs = retriever.get_relevant_documents(question)\n"
          ]
        },
        {
          "output_type": "stream",
          "name": "stdout",
          "text": [
            "Answer: The five SOLID principles are:\n",
            "\n",
            "1. **S** - Single Responsibility Principle (SRP): Each class should have one and only one reason to change.\n",
            "2. **O** - Open/Closed Principle (OCP): Software entities should be open for extension but closed for modification.\n",
            "3. **L** - Liskov Substitution Principle (LSP): Derived classes must be substitutable for their base classes.\n",
            "4. **I** - Interface Segregation Principle (ISP): Prefer many specific interfaces over one general-purpose interface.\n",
            "5. **D** - Dependency Inversion Principle (DIP): Depend on abstractions, not on concretions.\n",
            "\n",
            "These principles aim to promote simpler, more robust, and updatable code for software development in object-oriented languages like Python.\n",
            "Precision: 0.00 | Recall: 0.00 | F1: 0.00 | MRR: 0.00 | Hit@5: 0 | Faithful: 1\n",
            "\n",
            " Query: What is most used practice in python?\n",
            "Answer: Based on the provided context, the most used practices in Python are:\n",
            "\n",
            "1. **Follow SOLID Principles**: This includes Single Responsibility Principle (SRP), Open/Closed Principle (OCP), Liskov Substitution Principle (LSP), Interface Segregation Principle (ISP), and Dependency Inversion Principle (DIP).\n",
            "2. **Use Design Patterns**: Such as Singleton, Factory, Strategy, Observer, and Adapter.\n",
            "3. **Prefer Composition Over Inheritance**: This allows for better flexibility and code reuse.\n",
            "4. **Keep Classes and Functions Small**: A class should do one thing well, and a function should be concise, ideally under 20 lines.\n",
            "5. **Clear and Consistent Naming**: Use meaningful variable, function, and class names, and follow Python's PEP 8 naming conventions.\n",
            "\n",
            "However, if I had to choose one practice that is most widely used, it would be **Follow SOLID Principles**, as it is a fundamental concept in software design and is widely adopted in the Python community.\n",
            "\n",
            "In particular, the **Single Responsibility Principle (SRP)** is a widely used practice, as it helps to keep classes and functions simple, focused, and easy to maintain. This principle states that a class or function should have only one reason to change, making it easier to modify and extend the code without introducing bugs or breaking existing functionality.\n",
            "Precision: 0.00 | Recall: 0.00 | F1: 0.00 | MRR: 0.00 | Hit@5: 0 | Faithful: 1\n",
            "\n",
            " Query: What is the difference between interface segregation and Liskov substitution?\n",
            "Answer: The Interface Segregation Principle (ISP) and the Liskov Substitution Principle (LSP) are two distinct principles in the SOLID principles of software design.\n",
            "\n",
            "**Interface Segregation Principle (ISP):**\n",
            "The ISP states that \"clients should not be forced to depend on interfaces they do not use.\" It means that instead of having a large, general-purpose interface, it's better to have multiple smaller, specific interfaces that meet the needs of specific clients. This helps to reduce coupling and make the system more modular.\n",
            "\n",
            "In other words, ISP is about designing interfaces that are tailored to the needs of specific clients, rather than having a single interface that tries to cater to all clients.\n",
            "\n",
            "**Liskov Substitution Principle (LSP):**\n",
            "The LSP states that \"subtypes should be substitutable for their base types.\" It means that any code that uses a base type should be able to work with a subtype without knowing the difference. In other words, a subtype should be able to replace its base type without affecting the correctness of the program.\n",
            "\n",
            "LSP is about ensuring that inheritance relationships are designed in a way that allows subtypes to be used in place of their base types, without introducing any new errors or inconsistencies.\n",
            "\n",
            "**Key differences:**\n",
            "\n",
            "1. **Focus**: ISP focuses on designing interfaces that meet the needs of specific clients, while LSP focuses on ensuring that subtypes can be used in place of their base types.\n",
            "2. **Purpose**: ISP aims to reduce coupling and improve modularity, while LSP aims to ensure that inheritance relationships are safe and reliable.\n",
            "3. **Scope**: ISP applies to interfaces and clients, while LSP applies to inheritance relationships between classes.\n",
            "\n",
            "To illustrate the difference, consider an example:\n",
            "\n",
            "Suppose we have a `PaymentGateway` interface that has methods for processing credit card payments, PayPal payments, and bank transfers. If we want to follow ISP, we might break this interface into three separate interfaces: `CreditCardPaymentGateway`, `PayPalPaymentGateway`, and `BankTransferPaymentGateway`. Each interface would have only the methods that are relevant to its specific payment method.\n",
            "\n",
            "On the other hand, if we want to follow LSP, we might define a `PaymentGateway` base class that has a `processPayment` method, and then create subtypes like `CreditCardPaymentGateway` and `PayPalPaymentGateway` that inherit from the base class. The LSP would ensure that these subtypes can be used in place of the base class, without affecting the correctness of the program.\n",
            "\n",
            "In summary, while both ISP and LSP are important principles for designing software systems, they serve different purposes and apply to different aspects of software design.\n",
            "Precision: 0.00 | Recall: 0.00 | F1: 0.00 | MRR: 0.00 | Hit@5: 0 | Faithful: 1\n"
          ]
        }
      ]
    },
    {
      "cell_type": "code",
      "source": [
        "import numpy as np\n",
        "# ===================== METRIC SUMMARY =====================\n",
        "print(\"\\n Average Metrics Across Queries\")\n",
        "print(f\"Precision@10: {np.mean(all_precisions):.2f}\") #Of the top k retrieved documents, how many are actually relevant?\n",
        "print(f\"Recall@10: {np.mean(all_recalls):.2f}\")#How many of the total relevant documents were retrieved?\n",
        "print(f\"F1 Score: {np.mean(all_f1s):.2f}\")#Harmonic Mean of Ps/Rc - (# of relevant documents retrieved) / (Total relevant docs)\n",
        "print(f\"MRR: {np.mean(all_mrrs):.2f}\") #Maximal Marginal Relevance - Helps balance between relevance and diversity in results.\n",
        "print(f\"Hit@5: {np.mean(all_hits):.2f}\") #mAP (Mean Average Precision)\n",
        "print(f\"Faithfulness: {np.mean(all_faith):.2f}\")"
      ],
      "metadata": {
        "colab": {
          "base_uri": "https://localhost:8080/"
        },
        "id": "lHybd3idthEv",
        "outputId": "563dedda-5546-4135-be23-3886683424cf"
      },
      "execution_count": null,
      "outputs": [
        {
          "output_type": "stream",
          "name": "stdout",
          "text": [
            "\n",
            " Average Metrics Across Queries\n",
            "Precision: 0.00\n",
            "Recall: 0.00\n",
            "F1 Score: 0.00\n",
            "MRR: 0.00\n",
            "Hit@5: 0.00\n",
            "Faithfulness: 1.00\n"
          ]
        }
      ]
    },
    {
      "cell_type": "code",
      "source": [],
      "metadata": {
        "id": "EIXnOewyvhXY"
      },
      "execution_count": null,
      "outputs": []
    }
  ]
}