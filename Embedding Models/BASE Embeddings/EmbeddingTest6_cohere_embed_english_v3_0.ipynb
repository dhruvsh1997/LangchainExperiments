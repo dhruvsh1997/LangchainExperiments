{
  "nbformat": 4,
  "nbformat_minor": 0,
  "metadata": {
    "colab": {
      "provenance": [],
      "gpuType": "T4"
    },
    "kernelspec": {
      "name": "python3",
      "display_name": "Python 3"
    },
    "language_info": {
      "name": "python"
    },
    "accelerator": "GPU"
  },
  "cells": [
    {
      "cell_type": "code",
      "execution_count": 1,
      "metadata": {
        "colab": {
          "base_uri": "https://localhost:8080/"
        },
        "id": "WZbV3hrnhopP",
        "outputId": "c263fe9c-1bf9-441d-8275-8bb2c60bb94d"
      },
      "outputs": [
        {
          "output_type": "stream",
          "name": "stdout",
          "text": [
            "\u001b[2K   \u001b[90m━━━━━━━━━━━━━━━━━━━━━━━━━━━━━━━━━━━━━━━━\u001b[0m \u001b[32m363.4/363.4 MB\u001b[0m \u001b[31m4.0 MB/s\u001b[0m eta \u001b[36m0:00:00\u001b[0m\n",
            "\u001b[2K   \u001b[90m━━━━━━━━━━━━━━━━━━━━━━━━━━━━━━━━━━━━━━━━\u001b[0m \u001b[32m13.8/13.8 MB\u001b[0m \u001b[31m72.4 MB/s\u001b[0m eta \u001b[36m0:00:00\u001b[0m\n",
            "\u001b[2K   \u001b[90m━━━━━━━━━━━━━━━━━━━━━━━━━━━━━━━━━━━━━━━━\u001b[0m \u001b[32m24.6/24.6 MB\u001b[0m \u001b[31m53.1 MB/s\u001b[0m eta \u001b[36m0:00:00\u001b[0m\n",
            "\u001b[2K   \u001b[90m━━━━━━━━━━━━━━━━━━━━━━━━━━━━━━━━━━━━━━━━\u001b[0m \u001b[32m883.7/883.7 kB\u001b[0m \u001b[31m41.7 MB/s\u001b[0m eta \u001b[36m0:00:00\u001b[0m\n",
            "\u001b[2K   \u001b[90m━━━━━━━━━━━━━━━━━━━━━━━━━━━━━━━━━━━━━━━━\u001b[0m \u001b[32m664.8/664.8 MB\u001b[0m \u001b[31m2.5 MB/s\u001b[0m eta \u001b[36m0:00:00\u001b[0m\n",
            "\u001b[2K   \u001b[90m━━━━━━━━━━━━━━━━━━━━━━━━━━━━━━━━━━━━━━━━\u001b[0m \u001b[32m211.5/211.5 MB\u001b[0m \u001b[31m5.9 MB/s\u001b[0m eta \u001b[36m0:00:00\u001b[0m\n",
            "\u001b[2K   \u001b[90m━━━━━━━━━━━━━━━━━━━━━━━━━━━━━━━━━━━━━━━━\u001b[0m \u001b[32m56.3/56.3 MB\u001b[0m \u001b[31m13.4 MB/s\u001b[0m eta \u001b[36m0:00:00\u001b[0m\n",
            "\u001b[2K   \u001b[90m━━━━━━━━━━━━━━━━━━━━━━━━━━━━━━━━━━━━━━━━\u001b[0m \u001b[32m127.9/127.9 MB\u001b[0m \u001b[31m7.4 MB/s\u001b[0m eta \u001b[36m0:00:00\u001b[0m\n",
            "\u001b[2K   \u001b[90m━━━━━━━━━━━━━━━━━━━━━━━━━━━━━━━━━━━━━━━━\u001b[0m \u001b[32m207.5/207.5 MB\u001b[0m \u001b[31m5.5 MB/s\u001b[0m eta \u001b[36m0:00:00\u001b[0m\n",
            "\u001b[2K   \u001b[90m━━━━━━━━━━━━━━━━━━━━━━━━━━━━━━━━━━━━━━━━\u001b[0m \u001b[32m21.1/21.1 MB\u001b[0m \u001b[31m104.0 MB/s\u001b[0m eta \u001b[36m0:00:00\u001b[0m\n",
            "\u001b[?25h"
          ]
        }
      ],
      "source": [
        "# Cell 1: Install Required Libraries\n",
        "!pip install -q scikit-learn matplotlib torch transformers sentence-transformers"
      ]
    },
    {
      "cell_type": "code",
      "source": [
        "#https://huggingface.co/Cohere/Cohere-embed-english-v3.0\n",
        "!pip install -U cohere"
      ],
      "metadata": {
        "colab": {
          "base_uri": "https://localhost:8080/"
        },
        "id": "DPDC1iYEHX06",
        "outputId": "b2929109-1f79-4315-b939-3326f2206449"
      },
      "execution_count": 11,
      "outputs": [
        {
          "output_type": "stream",
          "name": "stdout",
          "text": [
            "Collecting cohere\n",
            "  Downloading cohere-5.15.0-py3-none-any.whl.metadata (3.4 kB)\n",
            "Collecting fastavro<2.0.0,>=1.9.4 (from cohere)\n",
            "  Downloading fastavro-1.10.0-cp311-cp311-manylinux_2_17_x86_64.manylinux2014_x86_64.whl.metadata (5.5 kB)\n",
            "Requirement already satisfied: httpx>=0.21.2 in /usr/local/lib/python3.11/dist-packages (from cohere) (0.28.1)\n",
            "Collecting httpx-sse==0.4.0 (from cohere)\n",
            "  Downloading httpx_sse-0.4.0-py3-none-any.whl.metadata (9.0 kB)\n",
            "Requirement already satisfied: pydantic>=1.9.2 in /usr/local/lib/python3.11/dist-packages (from cohere) (2.11.3)\n",
            "Requirement already satisfied: pydantic-core<3.0.0,>=2.18.2 in /usr/local/lib/python3.11/dist-packages (from cohere) (2.33.1)\n",
            "Requirement already satisfied: requests<3.0.0,>=2.0.0 in /usr/local/lib/python3.11/dist-packages (from cohere) (2.32.3)\n",
            "Requirement already satisfied: tokenizers<1,>=0.15 in /usr/local/lib/python3.11/dist-packages (from cohere) (0.21.1)\n",
            "Collecting types-requests<3.0.0,>=2.0.0 (from cohere)\n",
            "  Downloading types_requests-2.32.0.20250328-py3-none-any.whl.metadata (2.3 kB)\n",
            "Requirement already satisfied: typing_extensions>=4.0.0 in /usr/local/lib/python3.11/dist-packages (from cohere) (4.13.2)\n",
            "Requirement already satisfied: anyio in /usr/local/lib/python3.11/dist-packages (from httpx>=0.21.2->cohere) (4.9.0)\n",
            "Requirement already satisfied: certifi in /usr/local/lib/python3.11/dist-packages (from httpx>=0.21.2->cohere) (2025.4.26)\n",
            "Requirement already satisfied: httpcore==1.* in /usr/local/lib/python3.11/dist-packages (from httpx>=0.21.2->cohere) (1.0.9)\n",
            "Requirement already satisfied: idna in /usr/local/lib/python3.11/dist-packages (from httpx>=0.21.2->cohere) (3.10)\n",
            "Requirement already satisfied: h11>=0.16 in /usr/local/lib/python3.11/dist-packages (from httpcore==1.*->httpx>=0.21.2->cohere) (0.16.0)\n",
            "Requirement already satisfied: annotated-types>=0.6.0 in /usr/local/lib/python3.11/dist-packages (from pydantic>=1.9.2->cohere) (0.7.0)\n",
            "Requirement already satisfied: typing-inspection>=0.4.0 in /usr/local/lib/python3.11/dist-packages (from pydantic>=1.9.2->cohere) (0.4.0)\n",
            "Requirement already satisfied: charset-normalizer<4,>=2 in /usr/local/lib/python3.11/dist-packages (from requests<3.0.0,>=2.0.0->cohere) (3.4.1)\n",
            "Requirement already satisfied: urllib3<3,>=1.21.1 in /usr/local/lib/python3.11/dist-packages (from requests<3.0.0,>=2.0.0->cohere) (2.4.0)\n",
            "Requirement already satisfied: huggingface-hub<1.0,>=0.16.4 in /usr/local/lib/python3.11/dist-packages (from tokenizers<1,>=0.15->cohere) (0.30.2)\n",
            "Requirement already satisfied: filelock in /usr/local/lib/python3.11/dist-packages (from huggingface-hub<1.0,>=0.16.4->tokenizers<1,>=0.15->cohere) (3.18.0)\n",
            "Requirement already satisfied: fsspec>=2023.5.0 in /usr/local/lib/python3.11/dist-packages (from huggingface-hub<1.0,>=0.16.4->tokenizers<1,>=0.15->cohere) (2025.3.2)\n",
            "Requirement already satisfied: packaging>=20.9 in /usr/local/lib/python3.11/dist-packages (from huggingface-hub<1.0,>=0.16.4->tokenizers<1,>=0.15->cohere) (24.2)\n",
            "Requirement already satisfied: pyyaml>=5.1 in /usr/local/lib/python3.11/dist-packages (from huggingface-hub<1.0,>=0.16.4->tokenizers<1,>=0.15->cohere) (6.0.2)\n",
            "Requirement already satisfied: tqdm>=4.42.1 in /usr/local/lib/python3.11/dist-packages (from huggingface-hub<1.0,>=0.16.4->tokenizers<1,>=0.15->cohere) (4.67.1)\n",
            "Requirement already satisfied: sniffio>=1.1 in /usr/local/lib/python3.11/dist-packages (from anyio->httpx>=0.21.2->cohere) (1.3.1)\n",
            "Downloading cohere-5.15.0-py3-none-any.whl (259 kB)\n",
            "\u001b[2K   \u001b[90m━━━━━━━━━━━━━━━━━━━━━━━━━━━━━━━━━━━━━━━━\u001b[0m \u001b[32m259.5/259.5 kB\u001b[0m \u001b[31m16.4 MB/s\u001b[0m eta \u001b[36m0:00:00\u001b[0m\n",
            "\u001b[?25hDownloading httpx_sse-0.4.0-py3-none-any.whl (7.8 kB)\n",
            "Downloading fastavro-1.10.0-cp311-cp311-manylinux_2_17_x86_64.manylinux2014_x86_64.whl (3.3 MB)\n",
            "\u001b[2K   \u001b[90m━━━━━━━━━━━━━━━━━━━━━━━━━━━━━━━━━━━━━━━━\u001b[0m \u001b[32m3.3/3.3 MB\u001b[0m \u001b[31m100.5 MB/s\u001b[0m eta \u001b[36m0:00:00\u001b[0m\n",
            "\u001b[?25hDownloading types_requests-2.32.0.20250328-py3-none-any.whl (20 kB)\n",
            "Installing collected packages: types-requests, httpx-sse, fastavro, cohere\n",
            "Successfully installed cohere-5.15.0 fastavro-1.10.0 httpx-sse-0.4.0 types-requests-2.32.0.20250328\n"
          ]
        }
      ]
    },
    {
      "cell_type": "code",
      "source": [
        "# Cell 2: Import Libraries\n",
        "import numpy as np\n",
        "import matplotlib.pyplot as plt\n",
        "from sklearn.model_selection import train_test_split\n",
        "from sklearn.metrics.pairwise import cosine_similarity\n",
        "import nltk\n",
        "import re\n",
        "import cohere\n",
        "import pandas as pd\n",
        "from scipy.stats import spearmanr\n",
        "import math"
      ],
      "metadata": {
        "id": "MAm0Y3IglgdM"
      },
      "execution_count": 12,
      "outputs": []
    },
    {
      "cell_type": "code",
      "source": [
        "# Download NLTK resources\n",
        "nltk.download('punkt')\n",
        "nltk.download('stopwords')\n",
        "\n",
        "# Cell 3: Define Utility Functions\n",
        "def simple_clean(text):\n",
        "    text = text.lower()\n",
        "    text = re.sub(r'\\s+', ' ', text).strip()\n",
        "    return text"
      ],
      "metadata": {
        "colab": {
          "base_uri": "https://localhost:8080/"
        },
        "id": "_Z630wNWlhld",
        "outputId": "63b09f82-61d8-4f8e-f415-16dde95d0670"
      },
      "execution_count": 13,
      "outputs": [
        {
          "output_type": "stream",
          "name": "stderr",
          "text": [
            "[nltk_data] Downloading package punkt to /root/nltk_data...\n",
            "[nltk_data]   Package punkt is already up-to-date!\n",
            "[nltk_data] Downloading package stopwords to /root/nltk_data...\n",
            "[nltk_data]   Package stopwords is already up-to-date!\n"
          ]
        }
      ]
    },
    {
      "cell_type": "code",
      "source": [
        "from google.colab import userdata\n",
        "cohere_key =  userdata.get('COHERE_API_KEY')  #Get your API key from www.cohere.com\n",
        "co = cohere.Client(cohere_key)"
      ],
      "metadata": {
        "id": "Gui0mjwRHhqy"
      },
      "execution_count": 20,
      "outputs": []
    },
    {
      "cell_type": "code",
      "source": [
        "# Cell 4: Load Data\n",
        "df = pd.read_excel('/content/synthetic_resume_summaries (1).xlsx').iloc[:70]\n",
        "all_texts = df[\"text\"].tolist()\n",
        "all_summaries = df[\"summary\"].tolist()\n",
        "print(f\"Number of samples: {len(all_texts)}\")"
      ],
      "metadata": {
        "colab": {
          "base_uri": "https://localhost:8080/"
        },
        "id": "CnBrrMWUlsKg",
        "outputId": "9f4e92e0-2f77-4af8-d145-88b70354a049"
      },
      "execution_count": 39,
      "outputs": [
        {
          "output_type": "stream",
          "name": "stdout",
          "text": [
            "Number of samples: 70\n"
          ]
        }
      ]
    },
    {
      "cell_type": "code",
      "source": [
        "# Cell 5: Split Data into Train and Test\n",
        "num_samples = len(all_texts)\n",
        "test_size = 30\n",
        "if num_samples > test_size:\n",
        "    train_indices, test_indices = train_test_split(range(num_samples), test_size=test_size, random_state=42)\n",
        "else:\n",
        "    test_indices = list(range(num_samples))\n",
        "    print(f\"Warning: Number of samples {num_samples} is less than or equal to test_size {test_size}, using all as test.\")\n",
        "print(f\"Train indices: {len(train_indices)}\")\n",
        "print(f\"Test indices: {len(test_indices)}\")"
      ],
      "metadata": {
        "colab": {
          "base_uri": "https://localhost:8080/"
        },
        "id": "lO4B6KFSluDk",
        "outputId": "60df927e-daf5-475b-b609-2d31241e2a70"
      },
      "execution_count": 40,
      "outputs": [
        {
          "output_type": "stream",
          "name": "stdout",
          "text": [
            "Train indices: 40\n",
            "Test indices: 30\n"
          ]
        }
      ]
    },
    {
      "cell_type": "code",
      "source": [
        "# Cell 6: Prepare Corpus and Queries\n",
        "corpus = all_texts\n",
        "queries = [all_summaries[i] for i in test_indices]\n",
        "print(f\"Corpus size: {len(corpus)}\")\n",
        "print(f\"Query size: {len(queries)}\")"
      ],
      "metadata": {
        "colab": {
          "base_uri": "https://localhost:8080/"
        },
        "id": "yNhbrGa5lveE",
        "outputId": "604820a3-8a51-47ec-97e5-f9bc6a89f0eb"
      },
      "execution_count": 41,
      "outputs": [
        {
          "output_type": "stream",
          "name": "stdout",
          "text": [
            "Corpus size: 70\n",
            "Query size: 30\n"
          ]
        }
      ]
    },
    {
      "cell_type": "code",
      "source": [
        "# Cell 7: Load Model\n",
        "model_name = \"embed-english-v3.0\"\n",
        "print(f\"Model loaded: {model_name}\")"
      ],
      "metadata": {
        "colab": {
          "base_uri": "https://localhost:8080/"
        },
        "id": "4MMa2BBUlw1L",
        "outputId": "1e3640d9-098e-4515-ad36-de71eba594b8"
      },
      "execution_count": 42,
      "outputs": [
        {
          "output_type": "stream",
          "name": "stdout",
          "text": [
            "Model loaded: embed-english-v3.0\n"
          ]
        }
      ]
    },
    {
      "cell_type": "code",
      "source": [
        "# Encode Corpus and Queries using Cohere\n",
        "corpus_embeddings = co.embed(texts=[simple_clean(doc) for doc in corpus], input_type=\"search_document\", model=\"embed-english-v3.0\").embeddings\n",
        "corpus_embeddings_np = np.asarray(corpus_embeddings)\n",
        "print(f\"Corpus embeddings shape: {corpus_embeddings_np.shape}\")"
      ],
      "metadata": {
        "colab": {
          "base_uri": "https://localhost:8080/"
        },
        "id": "Mrzi8hW6lx_j",
        "outputId": "bd68e0a5-acf3-4ac3-855a-a2cb6e520b9c"
      },
      "execution_count": 43,
      "outputs": [
        {
          "output_type": "stream",
          "name": "stdout",
          "text": [
            "Corpus embeddings shape: (70, 1024)\n"
          ]
        }
      ]
    },
    {
      "cell_type": "code",
      "source": [
        "query_embeddings = co.embed(texts=[simple_clean(q) for q in queries], input_type=\"search_query\", model=\"embed-english-v3.0\").embeddings\n",
        "query_embeddings_np = np.asarray(query_embeddings)\n",
        "print(f\"Query embeddings shape: {query_embeddings_np.shape}\")"
      ],
      "metadata": {
        "colab": {
          "base_uri": "https://localhost:8080/"
        },
        "id": "skeljmWMItA8",
        "outputId": "888df25d-5b1c-4f7e-9f68-ba127e036477"
      },
      "execution_count": 44,
      "outputs": [
        {
          "output_type": "stream",
          "name": "stdout",
          "text": [
            "Query embeddings shape: (30, 1024)\n"
          ]
        }
      ]
    },
    {
      "cell_type": "code",
      "source": [
        "# Compute Cosine Similarities\n",
        "similarities = cosine_similarity(query_embeddings_np, corpus_embeddings_np)\n",
        "print(f\"Similarities matrix shape: {similarities.shape}\")"
      ],
      "metadata": {
        "colab": {
          "base_uri": "https://localhost:8080/"
        },
        "id": "ZTRejrlFlzOh",
        "outputId": "85e3a99b-207f-4704-a169-d6b8dd08d90f"
      },
      "execution_count": 45,
      "outputs": [
        {
          "output_type": "stream",
          "name": "stdout",
          "text": [
            "Similarities matrix shape: (30, 70)\n"
          ]
        }
      ]
    },
    {
      "cell_type": "code",
      "source": [
        "# Cell 10: Calculate Performance Metrics\n",
        "num_queries = len(queries)\n",
        "mrr_total = 0.0\n",
        "ap_total = 0.0\n",
        "ndcg_total = 0.0\n",
        "top1_correct = 0\n",
        "spearman_total = 0.0\n",
        "\n",
        "for k in range(num_queries):\n",
        "    ranked_indices = np.argsort(similarities[k, :])[::-1]\n",
        "    # MRR\n",
        "    rank = np.where(ranked_indices == test_indices[k])[0]\n",
        "    if len(rank) > 0:\n",
        "        rank = rank[0] + 1\n",
        "        mrr_total += 1.0 / rank\n",
        "    # MAP\n",
        "    sum_prec = 0.0\n",
        "    rel_found = 0\n",
        "    for position, doc_id in enumerate(ranked_indices):\n",
        "        if doc_id == test_indices[k]:\n",
        "            rel_found += 1\n",
        "            sum_prec += rel_found / (position + 1)\n",
        "    if rel_found > 0:\n",
        "        ap = sum_prec / rel_found\n",
        "    else:\n",
        "        ap = 0.0\n",
        "    ap_total += ap\n",
        "    # NDCG\n",
        "    rel = [1 if doc_id == test_indices[k] else 0 for doc_id in ranked_indices]\n",
        "    dcg = sum([rel[i] / math.log2(i + 2) for i in range(len(rel))])\n",
        "    idcg = 1.0 / math.log2(2)\n",
        "    ndcg = dcg / idcg if idcg > 0 else 0.0\n",
        "    ndcg_total += ndcg\n",
        "    # Top-1 Accuracy\n",
        "    if ranked_indices[0] == test_indices[k]:\n",
        "        top1_correct += 1\n",
        "    # Spearman\n",
        "    scores = similarities[k, :]\n",
        "    true_labels = [1 if j == test_indices[k] else 0 for j in range(len(corpus))]\n",
        "    rho, p = spearmanr(scores, true_labels)\n",
        "    if not math.isnan(rho):\n",
        "        spearman_total += rho\n",
        "\n",
        "mrr = mrr_total / num_queries\n",
        "map_score = ap_total / num_queries\n",
        "average_ndcg = ndcg_total / num_queries\n",
        "accuracy = top1_correct / num_queries\n",
        "average_spearman = spearman_total / num_queries"
      ],
      "metadata": {
        "id": "DJ1Xu334l0cw"
      },
      "execution_count": 46,
      "outputs": []
    },
    {
      "cell_type": "code",
      "source": [
        "print(\"Performance Summary:\")\n",
        "print(f\"- MRR: {mrr:.4f}\")\n",
        "print(f\"- MAP: {map_score:.4f}\")\n",
        "print(f\"- NDCG: {average_ndcg:.4f}\")\n",
        "print(f\"- Top-1 Accuracy: {accuracy:.4f}\")\n",
        "print(f\"- Average Spearman: {average_spearman:.4f}\")"
      ],
      "metadata": {
        "colab": {
          "base_uri": "https://localhost:8080/"
        },
        "id": "scseP4mZl42c",
        "outputId": "88c3f477-df6f-4236-873a-854baf0add77"
      },
      "execution_count": 47,
      "outputs": [
        {
          "output_type": "stream",
          "name": "stdout",
          "text": [
            "Performance Summary:\n",
            "- MRR: 1.0000\n",
            "- MAP: 1.0000\n",
            "- NDCG: 1.0000\n",
            "- Top-1 Accuracy: 1.0000\n",
            "- Average Spearman: 0.2056\n"
          ]
        }
      ]
    },
    {
      "cell_type": "code",
      "source": [],
      "metadata": {
        "id": "o0LLLMbLma1T"
      },
      "execution_count": null,
      "outputs": []
    }
  ]
}